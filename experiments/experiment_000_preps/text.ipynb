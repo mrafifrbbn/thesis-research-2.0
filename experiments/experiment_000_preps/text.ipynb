{
 "cells": [
  {
   "cell_type": "code",
   "execution_count": 15,
   "metadata": {},
   "outputs": [],
   "source": [
    "import numpy as np\n",
    "import pandas as pd"
   ]
  },
  {
   "cell_type": "code",
   "execution_count": 5,
   "metadata": {},
   "outputs": [
    {
     "name": "stdout",
     "output_type": "stream",
     "text": [
      "Galaxies excluded in 6dFGS: 1\n",
      "Galaxies excluded in SDSS: 4\n",
      "Galaxies excluded in LAMOST: 7\n"
     ]
    }
   ],
   "source": [
    "# Number of galaxies after iterative FP fitting (outlier galaxies)\n",
    "for survey in ['6dFGS', 'SDSS', 'LAMOST']:\n",
    "    df_ori = pd.read_csv(f'../data/foundation/fp_sample/smin_setting_1/{survey.lower()}.csv')\n",
    "\n",
    "    df_final = pd.read_csv(f'../data/foundation/fp_sample_final/smin_setting_1/fp_fit_method_0/{survey.lower()}.csv')\n",
    "\n",
    "    print(f\"Galaxies excluded in {survey}: {len(df_ori) - len(df_final)}\")"
   ]
  },
  {
   "cell_type": "code",
   "execution_count": 8,
   "metadata": {},
   "outputs": [
    {
     "name": "stdout",
     "output_type": "stream",
     "text": [
      "Number of combined galaxies (before/original): 12804\n",
      "Number of combined galaxies (after outlier rejection): 12786\n"
     ]
    }
   ],
   "source": [
    "# Number of combined galaxies\n",
    "df = pd.DataFrame()\n",
    "for survey in ['6dFGS', 'SDSS', 'LAMOST']:\n",
    "    df_temp = pd.read_csv(f'../data/foundation/fp_sample/smin_setting_1/{survey.lower()}.csv')\n",
    "\n",
    "    df = pd.concat([df, df_temp])\n",
    "\n",
    "print(f\"Number of combined galaxies (before/original): {len(df)}\")\n",
    "\n",
    "df = pd.read_csv(\"../data/foundation/fp_sample_final/smin_setting_1/fp_fit_method_0/all_combined.csv\")\n",
    "print(f\"Number of combined galaxies (after outlier rejection): {len(df)}\")"
   ]
  },
  {
   "cell_type": "code",
   "execution_count": 12,
   "metadata": {},
   "outputs": [
    {
     "data": {
      "text/html": [
       "<div>\n",
       "<style scoped>\n",
       "    .dataframe tbody tr th:only-of-type {\n",
       "        vertical-align: middle;\n",
       "    }\n",
       "\n",
       "    .dataframe tbody tr th {\n",
       "        vertical-align: top;\n",
       "    }\n",
       "\n",
       "    .dataframe thead th {\n",
       "        text-align: right;\n",
       "    }\n",
       "</style>\n",
       "<table border=\"1\" class=\"dataframe\">\n",
       "  <thead>\n",
       "    <tr style=\"text-align: right;\">\n",
       "      <th></th>\n",
       "      <th>a</th>\n",
       "      <th>b</th>\n",
       "      <th>rmean</th>\n",
       "      <th>smean</th>\n",
       "      <th>imean</th>\n",
       "      <th>s1</th>\n",
       "      <th>s2</th>\n",
       "      <th>s3</th>\n",
       "      <th>c</th>\n",
       "    </tr>\n",
       "  </thead>\n",
       "  <tbody>\n",
       "    <tr>\n",
       "      <th>6dFGS</th>\n",
       "      <td>1.419585</td>\n",
       "      <td>-0.868787</td>\n",
       "      <td>0.188641</td>\n",
       "      <td>2.258447</td>\n",
       "      <td>3.211987</td>\n",
       "      <td>0.041763</td>\n",
       "      <td>0.287499</td>\n",
       "      <td>0.147204</td>\n",
       "      <td>-0.226886</td>\n",
       "    </tr>\n",
       "    <tr>\n",
       "      <th>SDSS</th>\n",
       "      <td>1.437831</td>\n",
       "      <td>-0.898644</td>\n",
       "      <td>0.155866</td>\n",
       "      <td>2.237594</td>\n",
       "      <td>3.183340</td>\n",
       "      <td>0.045066</td>\n",
       "      <td>0.272557</td>\n",
       "      <td>0.163546</td>\n",
       "      <td>-0.200726</td>\n",
       "    </tr>\n",
       "    <tr>\n",
       "      <th>LAMOST</th>\n",
       "      <td>1.458118</td>\n",
       "      <td>-0.918159</td>\n",
       "      <td>-0.043616</td>\n",
       "      <td>2.167199</td>\n",
       "      <td>3.286299</td>\n",
       "      <td>0.049962</td>\n",
       "      <td>0.276993</td>\n",
       "      <td>0.164573</td>\n",
       "      <td>-0.186302</td>\n",
       "    </tr>\n",
       "    <tr>\n",
       "      <th>ALL_COMBINED</th>\n",
       "      <td>1.448729</td>\n",
       "      <td>-0.894661</td>\n",
       "      <td>0.140691</td>\n",
       "      <td>2.240512</td>\n",
       "      <td>3.217048</td>\n",
       "      <td>0.045052</td>\n",
       "      <td>0.286057</td>\n",
       "      <td>0.156652</td>\n",
       "      <td>-0.227037</td>\n",
       "    </tr>\n",
       "  </tbody>\n",
       "</table>\n",
       "</div>"
      ],
      "text/plain": [
       "                     a         b     rmean     smean     imean        s1  \\\n",
       "6dFGS         1.419585 -0.868787  0.188641  2.258447  3.211987  0.041763   \n",
       "SDSS          1.437831 -0.898644  0.155866  2.237594  3.183340  0.045066   \n",
       "LAMOST        1.458118 -0.918159 -0.043616  2.167199  3.286299  0.049962   \n",
       "ALL_COMBINED  1.448729 -0.894661  0.140691  2.240512  3.217048  0.045052   \n",
       "\n",
       "                    s2        s3         c  \n",
       "6dFGS         0.287499  0.147204 -0.226886  \n",
       "SDSS          0.272557  0.163546 -0.200726  \n",
       "LAMOST        0.276993  0.164573 -0.186302  \n",
       "ALL_COMBINED  0.286057  0.156652 -0.227037  "
      ]
     },
     "execution_count": 12,
     "metadata": {},
     "output_type": "execute_result"
    }
   ],
   "source": [
    "df = pd.read_csv('../artifacts/fp_fit/smin_setting_1/fp_fit_method_0/fp_fits.csv', index_col=0)\n",
    "df['c'] = df['rmean'] - df['a'] * df['smean'] - df['b'] * df['imean']\n",
    "\n",
    "df"
   ]
  },
  {
   "cell_type": "code",
   "execution_count": 21,
   "metadata": {},
   "outputs": [
    {
     "data": {
      "text/html": [
       "<div>\n",
       "<style scoped>\n",
       "    .dataframe tbody tr th:only-of-type {\n",
       "        vertical-align: middle;\n",
       "    }\n",
       "\n",
       "    .dataframe tbody tr th {\n",
       "        vertical-align: top;\n",
       "    }\n",
       "\n",
       "    .dataframe thead th {\n",
       "        text-align: right;\n",
       "    }\n",
       "</style>\n",
       "<table border=\"1\" class=\"dataframe\">\n",
       "  <thead>\n",
       "    <tr style=\"text-align: right;\">\n",
       "      <th></th>\n",
       "      <th>eps_s</th>\n",
       "      <th>eps_photo</th>\n",
       "      <th>sigma_r_int</th>\n",
       "      <th>r_scatter</th>\n",
       "    </tr>\n",
       "  </thead>\n",
       "  <tbody>\n",
       "    <tr>\n",
       "      <th>6dFGS</th>\n",
       "      <td>11.282667</td>\n",
       "      <td>5.963695</td>\n",
       "      <td>18.673965</td>\n",
       "      <td>25.305410</td>\n",
       "    </tr>\n",
       "    <tr>\n",
       "      <th>SDSS</th>\n",
       "      <td>1.980223</td>\n",
       "      <td>6.723548</td>\n",
       "      <td>20.423930</td>\n",
       "      <td>21.690352</td>\n",
       "    </tr>\n",
       "    <tr>\n",
       "      <th>LAMOST</th>\n",
       "      <td>8.174177</td>\n",
       "      <td>7.851815</td>\n",
       "      <td>22.910722</td>\n",
       "      <td>27.009323</td>\n",
       "    </tr>\n",
       "    <tr>\n",
       "      <th>ALL_COMBINED</th>\n",
       "      <td>7.138014</td>\n",
       "      <td>6.677497</td>\n",
       "      <td>20.493007</td>\n",
       "      <td>23.900833</td>\n",
       "    </tr>\n",
       "  </tbody>\n",
       "</table>\n",
       "</div>"
      ],
      "text/plain": [
       "                  eps_s  eps_photo  sigma_r_int  r_scatter\n",
       "6dFGS         11.282667   5.963695    18.673965  25.305410\n",
       "SDSS           1.980223   6.723548    20.423930  21.690352\n",
       "LAMOST         8.174177   7.851815    22.910722  27.009323\n",
       "ALL_COMBINED   7.138014   6.677497    20.493007  23.900833"
      ]
     },
     "execution_count": 21,
     "metadata": {},
     "output_type": "execute_result"
    }
   ],
   "source": [
    "df = pd.read_csv('../artifacts/fp_fit/smin_setting_1/fp_fit_method_0/fp_scatter.csv', index_col=0)\n",
    "\n",
    "df * np.log(10) * 100"
   ]
  },
  {
   "cell_type": "code",
   "execution_count": 33,
   "metadata": {},
   "outputs": [
    {
     "data": {
      "text/plain": [
       "2.2358101252972187"
      ]
     },
     "execution_count": 33,
     "metadata": {},
     "output_type": "execute_result"
    }
   ],
   "source": [
    "df = pd.read_csv('../data/external/logdist/cullan_logdist.csv')\n",
    "\n",
    "df = df[df[\"zcmb_group\"] < 0.053]\n",
    "\n",
    "(df[\"es\"] * 100 * np.log(10)).median()"
   ]
  },
  {
   "cell_type": "code",
   "execution_count": 34,
   "metadata": {},
   "outputs": [
    {
     "data": {
      "text/plain": [
       "12792"
      ]
     },
     "execution_count": 34,
     "metadata": {},
     "output_type": "execute_result"
    }
   ],
   "source": [
    "6217 + 4433 + 2142"
   ]
  },
  {
   "cell_type": "code",
   "execution_count": null,
   "metadata": {},
   "outputs": [],
   "source": []
  }
 ],
 "metadata": {
  "kernelspec": {
   "display_name": "venv",
   "language": "python",
   "name": "python3"
  },
  "language_info": {
   "codemirror_mode": {
    "name": "ipython",
    "version": 3
   },
   "file_extension": ".py",
   "mimetype": "text/x-python",
   "name": "python",
   "nbconvert_exporter": "python",
   "pygments_lexer": "ipython3",
   "version": "3.11.4"
  }
 },
 "nbformat": 4,
 "nbformat_minor": 2
}
