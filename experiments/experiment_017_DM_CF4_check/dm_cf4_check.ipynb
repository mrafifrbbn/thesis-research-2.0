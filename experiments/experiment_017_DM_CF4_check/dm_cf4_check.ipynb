{
 "cells": [
  {
   "cell_type": "code",
   "execution_count": 2,
   "id": "c8c722b2",
   "metadata": {},
   "outputs": [],
   "source": [
    "import os\n",
    "import sys\n",
    "import numpy as np\n",
    "import pandas as pd\n",
    "import matplotlib.pyplot as plt\n",
    "import matplotlib.gridspec as gridspec\n",
    "\n",
    "from scipy.odr import ODR, Model, RealData\n",
    "\n",
    "from dotenv import load_dotenv\n",
    "load_dotenv(override=True)\n",
    "\n",
    "ROOT_PATH = os.environ.get('ROOT_PATH')\n",
    "if not ROOT_PATH in sys.path: sys.path.append(ROOT_PATH)\n",
    "\n",
    "from main_code.utils.constants import *\n",
    "from main_code.utils.CosmoFunc import *\n",
    "from main_code.utils.functions import density_contour\n",
    "\n",
    "# def bin_data(x: np.array, y: np.array, xmin: float, xmax: float, n_bin: int):\n",
    "#     # x_bin = np.linspace(np.min(x), np.max(x), n_bin)\n",
    "#     x_bin = np.linspace(xmin, xmax, n_bin)\n",
    "#     x_middle = 0.5 * (x_bin[1:] + x_bin[:-1])\n",
    "#     delta_x = np.diff(x_bin)[0]\n",
    "\n",
    "#     x_bin_ = []\n",
    "#     y_bin = []\n",
    "#     y_bin_err = []\n",
    "#     y_bin_stderr = []\n",
    "\n",
    "#     for x_trial in x_middle:\n",
    "#         x_lower = x_trial - 0.5 * delta_x \n",
    "#         x_upper = x_trial + 0.5 * delta_x\n",
    "\n",
    "#         y_ = y[(x >= x_lower) & (x < x_upper)]\n",
    "\n",
    "#         if len(y_):\n",
    "#             x_bin_.append(x_trial)\n",
    "#             y_bin.append(np.median(y_))\n",
    "#             y_bin_err.append(np.std(y_))\n",
    "#             y_bin_stderr.append(np.std(y_) / np.sqrt(len(y_)))\n",
    "#         else:\n",
    "#             continue\n",
    "\n",
    "#     return np.array(x_bin_), np.array(y_bin), np.array(y_bin_err), np.array(y_bin_stderr)"
   ]
  },
  {
   "cell_type": "code",
   "execution_count": 2,
   "id": "6daff36a",
   "metadata": {},
   "outputs": [
    {
     "data": {
      "text/plain": [
       "['/Users/mrafifrbbn/anaconda3/lib/python311.zip',\n",
       " '/Users/mrafifrbbn/anaconda3/lib/python3.11',\n",
       " '/Users/mrafifrbbn/anaconda3/lib/python3.11/lib-dynload',\n",
       " '',\n",
       " '/Users/mrafifrbbn/Documents/thesis/thesis-research-2.0/venv/lib/python3.11/site-packages']"
      ]
     },
     "execution_count": 2,
     "metadata": {},
     "output_type": "execute_result"
    }
   ],
   "source": [
    "import sys\n",
    "sys.path"
   ]
  },
  {
   "cell_type": "code",
   "execution_count": 5,
   "id": "4619fed9",
   "metadata": {},
   "outputs": [
    {
     "name": "stdout",
     "output_type": "stream",
     "text": [
      "/Users/mrafifrbbn/Documents/thesis/thesis-research-2.0/venv/bin/python\n"
     ]
    }
   ],
   "source": [
    "!which python"
   ]
  },
  {
   "cell_type": "code",
   "execution_count": null,
   "id": "2c7d0ca1",
   "metadata": {},
   "outputs": [],
   "source": []
  }
 ],
 "metadata": {
  "kernelspec": {
   "display_name": "venv",
   "language": "python",
   "name": "python3"
  },
  "language_info": {
   "codemirror_mode": {
    "name": "ipython",
    "version": 3
   },
   "file_extension": ".py",
   "mimetype": "text/x-python",
   "name": "python",
   "nbconvert_exporter": "python",
   "pygments_lexer": "ipython3",
   "version": "3.11.4"
  }
 },
 "nbformat": 4,
 "nbformat_minor": 5
}
