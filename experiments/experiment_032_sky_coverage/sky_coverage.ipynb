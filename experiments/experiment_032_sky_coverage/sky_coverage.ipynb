{
 "cells": [
  {
   "cell_type": "code",
   "execution_count": 1,
   "id": "77312df8",
   "metadata": {},
   "outputs": [],
   "source": [
    "import numpy as np\n",
    "import pandas as pd"
   ]
  },
  {
   "cell_type": "code",
   "execution_count": 2,
   "id": "8fca1dc0",
   "metadata": {},
   "outputs": [],
   "source": [
    "N = 100000\n",
    "\n",
    "# In phi\n",
    "phi = 2 * np.pi * np.random.uniform(0, 1, size=N)\n",
    "\n",
    "# In theta\n",
    "theta = np.arcsin(2 * np.random.uniform(0, 1, size=N) - 1)\n",
    "\n",
    "df = pd.DataFrame(data={\n",
    "    'phi': phi,\n",
    "    'theta': theta\n",
    "})\n",
    "\n",
    "# Convert to degrees\n",
    "df = df * 180 / np.pi\n",
    "\n",
    "df.to_csv(\"./random_points_sphere.csv\", index=False)"
   ]
  },
  {
   "cell_type": "markdown",
   "id": "8e30686e",
   "metadata": {},
   "source": [
    "Fill manually (analysis done in topcat)\n",
    "\n",
    "6dFGS count = 41749\n",
    "\n",
    "SDSS count = 18471\n",
    "\n",
    "LAMOST count = 35740 (13209)"
   ]
  },
  {
   "cell_type": "code",
   "execution_count": 5,
   "id": "caace1da",
   "metadata": {},
   "outputs": [
    {
     "data": {
      "text/plain": [
       "array([1.66996, 0.73884, 1.4296 , 0.52836])"
      ]
     },
     "execution_count": 5,
     "metadata": {},
     "output_type": "execute_result"
    }
   ],
   "source": [
    "N = 100000\n",
    "\n",
    "sky_counts = np.array([41749, 18471, 35740, 13209])\n",
    "\n",
    "# Sky coverage in steradians\n",
    "sky_counts * 4 / N"
   ]
  },
  {
   "cell_type": "code",
   "execution_count": 6,
   "id": "f8462b58",
   "metadata": {},
   "outputs": [
    {
     "data": {
      "text/plain": [
       "4421"
      ]
     },
     "execution_count": 6,
     "metadata": {},
     "output_type": "execute_result"
    }
   ],
   "source": [
    "len(pd.read_csv(\"../../data/foundation/logdist/smin_setting_1/fp_fit_method_0/sdss.csv\"))"
   ]
  },
  {
   "cell_type": "code",
   "execution_count": 7,
   "id": "3551c873",
   "metadata": {},
   "outputs": [
    {
     "data": {
      "text/plain": [
       "2.9299999999999997"
      ]
     },
     "execution_count": 7,
     "metadata": {},
     "output_type": "execute_result"
    }
   ],
   "source": [
    "1.65 + 0.75 + 0.53"
   ]
  },
  {
   "cell_type": "code",
   "execution_count": null,
   "id": "5e1aab16",
   "metadata": {},
   "outputs": [],
   "source": []
  }
 ],
 "metadata": {
  "kernelspec": {
   "display_name": "venv",
   "language": "python",
   "name": "python3"
  },
  "language_info": {
   "codemirror_mode": {
    "name": "ipython",
    "version": 3
   },
   "file_extension": ".py",
   "mimetype": "text/x-python",
   "name": "python",
   "nbconvert_exporter": "python",
   "pygments_lexer": "ipython3",
   "version": "3.11.4"
  }
 },
 "nbformat": 4,
 "nbformat_minor": 5
}
