{
 "cells": [
  {
   "cell_type": "markdown",
   "id": "cde63543",
   "metadata": {},
   "source": [
    "This notebook is just meant to test the codes before I compile them as .py files."
   ]
  },
  {
   "cell_type": "code",
   "execution_count": 5,
   "id": "f2ec7ecd",
   "metadata": {},
   "outputs": [],
   "source": [
    "import numpy as np\n",
    "import pandas as pd\n",
    "import matplotlib.pyplot as plt\n",
    "from astropy.io import fits\n",
    "import astropy.io.ascii as astropy_ascii\n",
    "from astropy.table import Table"
   ]
  },
  {
   "cell_type": "markdown",
   "id": "2b7c6879",
   "metadata": {},
   "source": [
    "# 1. Fetch coordinates (ra, dec) from raw data"
   ]
  },
  {
   "cell_type": "code",
   "execution_count": 8,
   "id": "b55847a9",
   "metadata": {},
   "outputs": [],
   "source": [
    "# 6dFGS\n",
    "df = pd.read_csv('data/raw/6dfgs/campbell_table8.ascii', delim_whitespace=True)\n",
    "\n",
    "# ra is still in hour -> need to convert to degrees\n",
    "df_test = df[['ra', 'dec']]"
   ]
  },
  {
   "cell_type": "code",
   "execution_count": 10,
   "id": "cbfee1a3",
   "metadata": {},
   "outputs": [],
   "source": [
    "Table.from_pandas(df_test).write('6dfgs_coord.ascii', format='ipac', overwrite=True)"
   ]
  },
  {
   "cell_type": "code",
   "execution_count": 23,
   "id": "dbbbd300",
   "metadata": {},
   "outputs": [
    {
     "data": {
      "text/html": [
       "<div>\n",
       "<style scoped>\n",
       "    .dataframe tbody tr th:only-of-type {\n",
       "        vertical-align: middle;\n",
       "    }\n",
       "\n",
       "    .dataframe tbody tr th {\n",
       "        vertical-align: top;\n",
       "    }\n",
       "\n",
       "    .dataframe thead th {\n",
       "        text-align: right;\n",
       "    }\n",
       "</style>\n",
       "<table border=\"1\" class=\"dataframe\">\n",
       "  <thead>\n",
       "    <tr style=\"text-align: right;\">\n",
       "      <th></th>\n",
       "      <th>ra</th>\n",
       "      <th>dec</th>\n",
       "    </tr>\n",
       "  </thead>\n",
       "  <tbody>\n",
       "    <tr>\n",
       "      <th>count</th>\n",
       "      <td>85861.000000</td>\n",
       "      <td>85861.000000</td>\n",
       "    </tr>\n",
       "    <tr>\n",
       "      <th>mean</th>\n",
       "      <td>172.739314</td>\n",
       "      <td>23.402422</td>\n",
       "    </tr>\n",
       "    <tr>\n",
       "      <th>std</th>\n",
       "      <td>90.718450</td>\n",
       "      <td>17.346885</td>\n",
       "    </tr>\n",
       "    <tr>\n",
       "      <th>min</th>\n",
       "      <td>0.006891</td>\n",
       "      <td>-8.783024</td>\n",
       "    </tr>\n",
       "    <tr>\n",
       "      <th>25%</th>\n",
       "      <td>133.475564</td>\n",
       "      <td>7.475573</td>\n",
       "    </tr>\n",
       "    <tr>\n",
       "      <th>50%</th>\n",
       "      <td>171.662455</td>\n",
       "      <td>22.503952</td>\n",
       "    </tr>\n",
       "    <tr>\n",
       "      <th>75%</th>\n",
       "      <td>219.158605</td>\n",
       "      <td>36.137900</td>\n",
       "    </tr>\n",
       "    <tr>\n",
       "      <th>max</th>\n",
       "      <td>359.994162</td>\n",
       "      <td>77.790749</td>\n",
       "    </tr>\n",
       "  </tbody>\n",
       "</table>\n",
       "</div>"
      ],
      "text/plain": [
       "                 ra           dec\n",
       "count  85861.000000  85861.000000\n",
       "mean     172.739314     23.402422\n",
       "std       90.718450     17.346885\n",
       "min        0.006891     -8.783024\n",
       "25%      133.475564      7.475573\n",
       "50%      171.662455     22.503952\n",
       "75%      219.158605     36.137900\n",
       "max      359.994162     77.790749"
      ]
     },
     "execution_count": 23,
     "metadata": {},
     "output_type": "execute_result"
    }
   ],
   "source": [
    "# LAMOST\n",
    "with fits.open('data/raw/lamost/lamost_DR7_VDcat_20200825.fits') as hdul:\n",
    "    df = pd.DataFrame(hdul[1].data)\n",
    "\n",
    "df[['ra', 'dec']].describe()"
   ]
  },
  {
   "cell_type": "code",
   "execution_count": 13,
   "id": "7e1b849a",
   "metadata": {},
   "outputs": [],
   "source": [
    "# # sdss\n",
    "# df = pd.read_csv('data/raw/sdss/SDSS_spectro_mrafifrbbn.csv')\n",
    "\n",
    "# df[['ra', 'dec']].describe()"
   ]
  },
  {
   "cell_type": "markdown",
   "id": "0e344207",
   "metadata": {},
   "source": [
    "# 2. Merge the spectroscopy and photometry"
   ]
  },
  {
   "cell_type": "code",
   "execution_count": 31,
   "id": "5345e2ce",
   "metadata": {},
   "outputs": [
    {
     "data": {
      "text/html": [
       "<div>\n",
       "<style scoped>\n",
       "    .dataframe tbody tr th:only-of-type {\n",
       "        vertical-align: middle;\n",
       "    }\n",
       "\n",
       "    .dataframe tbody tr th {\n",
       "        vertical-align: top;\n",
       "    }\n",
       "\n",
       "    .dataframe thead th {\n",
       "        text-align: right;\n",
       "    }\n",
       "</style>\n",
       "<table border=\"1\" class=\"dataframe\">\n",
       "  <thead>\n",
       "    <tr style=\"text-align: right;\">\n",
       "      <th></th>\n",
       "      <th>delta_ra</th>\n",
       "      <th>delta_dec</th>\n",
       "    </tr>\n",
       "  </thead>\n",
       "  <tbody>\n",
       "    <tr>\n",
       "      <th>count</th>\n",
       "      <td>8.586100e+04</td>\n",
       "      <td>85861.0</td>\n",
       "    </tr>\n",
       "    <tr>\n",
       "      <th>mean</th>\n",
       "      <td>1.164661e-14</td>\n",
       "      <td>0.0</td>\n",
       "    </tr>\n",
       "    <tr>\n",
       "      <th>std</th>\n",
       "      <td>2.621386e-11</td>\n",
       "      <td>0.0</td>\n",
       "    </tr>\n",
       "    <tr>\n",
       "      <th>min</th>\n",
       "      <td>-4.000015e-09</td>\n",
       "      <td>0.0</td>\n",
       "    </tr>\n",
       "    <tr>\n",
       "      <th>25%</th>\n",
       "      <td>0.000000e+00</td>\n",
       "      <td>0.0</td>\n",
       "    </tr>\n",
       "    <tr>\n",
       "      <th>50%</th>\n",
       "      <td>0.000000e+00</td>\n",
       "      <td>0.0</td>\n",
       "    </tr>\n",
       "    <tr>\n",
       "      <th>75%</th>\n",
       "      <td>0.000000e+00</td>\n",
       "      <td>0.0</td>\n",
       "    </tr>\n",
       "    <tr>\n",
       "      <th>max</th>\n",
       "      <td>5.000004e-09</td>\n",
       "      <td>0.0</td>\n",
       "    </tr>\n",
       "  </tbody>\n",
       "</table>\n",
       "</div>"
      ],
      "text/plain": [
       "           delta_ra  delta_dec\n",
       "count  8.586100e+04    85861.0\n",
       "mean   1.164661e-14        0.0\n",
       "std    2.621386e-11        0.0\n",
       "min   -4.000015e-09        0.0\n",
       "25%    0.000000e+00        0.0\n",
       "50%    0.000000e+00        0.0\n",
       "75%    0.000000e+00        0.0\n",
       "max    5.000004e-09        0.0"
      ]
     },
     "execution_count": 31,
     "metadata": {},
     "output_type": "execute_result"
    }
   ],
   "source": [
    "# Compare the original raw data to 2MASS (check if the order is the same)\n",
    "with fits.open('data/raw/lamost/lamost_DR7_VDcat_20200825.fits') as hdul:\n",
    "    df_lamost_spectro = pd.DataFrame(hdul[1].data)\n",
    "    \n",
    "df_lamost_tmass = pd.read_csv('data/raw/2mass/lamost_tmass.csv', low_memory=False)\n",
    "\n",
    "df = pd.merge(df_lamost_spectro[['ra', 'dec']], df_lamost_tmass[['ra_01', 'dec_01']], left_index=True, right_index=True)\n",
    "\n",
    "df['delta_ra'] = df['ra_01']-df['ra']\n",
    "df['delta_dec'] = df['dec_01']-df['dec']\n",
    "\n",
    "\n",
    "df[['delta_ra', 'delta_dec']].describe()"
   ]
  },
  {
   "cell_type": "code",
   "execution_count": 33,
   "id": "01f3d5de",
   "metadata": {},
   "outputs": [
    {
     "data": {
      "text/html": [
       "<div>\n",
       "<style scoped>\n",
       "    .dataframe tbody tr th:only-of-type {\n",
       "        vertical-align: middle;\n",
       "    }\n",
       "\n",
       "    .dataframe tbody tr th {\n",
       "        vertical-align: top;\n",
       "    }\n",
       "\n",
       "    .dataframe thead th {\n",
       "        text-align: right;\n",
       "    }\n",
       "</style>\n",
       "<table border=\"1\" class=\"dataframe\">\n",
       "  <thead>\n",
       "    <tr style=\"text-align: right;\">\n",
       "      <th></th>\n",
       "      <th>delta_ra</th>\n",
       "      <th>delta_dec</th>\n",
       "    </tr>\n",
       "  </thead>\n",
       "  <tbody>\n",
       "    <tr>\n",
       "      <th>count</th>\n",
       "      <td>1.110200e+04</td>\n",
       "      <td>11102.0</td>\n",
       "    </tr>\n",
       "    <tr>\n",
       "      <th>mean</th>\n",
       "      <td>2.142063e-16</td>\n",
       "      <td>0.0</td>\n",
       "    </tr>\n",
       "    <tr>\n",
       "      <th>std</th>\n",
       "      <td>1.650116e-14</td>\n",
       "      <td>0.0</td>\n",
       "    </tr>\n",
       "    <tr>\n",
       "      <th>min</th>\n",
       "      <td>-5.684342e-14</td>\n",
       "      <td>0.0</td>\n",
       "    </tr>\n",
       "    <tr>\n",
       "      <th>25%</th>\n",
       "      <td>0.000000e+00</td>\n",
       "      <td>0.0</td>\n",
       "    </tr>\n",
       "    <tr>\n",
       "      <th>50%</th>\n",
       "      <td>0.000000e+00</td>\n",
       "      <td>0.0</td>\n",
       "    </tr>\n",
       "    <tr>\n",
       "      <th>75%</th>\n",
       "      <td>0.000000e+00</td>\n",
       "      <td>0.0</td>\n",
       "    </tr>\n",
       "    <tr>\n",
       "      <th>max</th>\n",
       "      <td>5.684342e-14</td>\n",
       "      <td>0.0</td>\n",
       "    </tr>\n",
       "  </tbody>\n",
       "</table>\n",
       "</div>"
      ],
      "text/plain": [
       "           delta_ra  delta_dec\n",
       "count  1.110200e+04    11102.0\n",
       "mean   2.142063e-16        0.0\n",
       "std    1.650116e-14        0.0\n",
       "min   -5.684342e-14        0.0\n",
       "25%    0.000000e+00        0.0\n",
       "50%    0.000000e+00        0.0\n",
       "75%    0.000000e+00        0.0\n",
       "max    5.684342e-14        0.0"
      ]
     },
     "execution_count": 33,
     "metadata": {},
     "output_type": "execute_result"
    }
   ],
   "source": [
    "# Compare the original raw data to 2MASS\n",
    "df_6df_spectro = pd.read_csv('data/raw/6dfgs/campbell_table8.ascii', delim_whitespace=True)\n",
    "df_6df_spectro['ra'] = df_6df_spectro['ra']*15\n",
    "\n",
    "df_6df_tmass = pd.read_csv('data/raw/2mass/6dfgs_tmass.csv', low_memory=False)\n",
    "\n",
    "df = pd.merge(df_6df_spectro[['ra', 'dec']], df_6df_tmass[['ra_01', 'dec_01']], left_index=True, right_index=True)\n",
    "\n",
    "df['delta_ra'] = df['ra_01']-df['ra']\n",
    "df['delta_dec'] = df['dec_01']-df['dec']\n",
    "\n",
    "df[['delta_ra', 'delta_dec']].describe()"
   ]
  },
  {
   "cell_type": "markdown",
   "id": "3acc752e",
   "metadata": {},
   "source": [
    "# Coba2 cross-matching"
   ]
  },
  {
   "cell_type": "code",
   "execution_count": 70,
   "id": "60dbad17",
   "metadata": {},
   "outputs": [],
   "source": [
    "from astropy import units as u\n",
    "from astropy.coordinates import SkyCoord"
   ]
  },
  {
   "cell_type": "code",
   "execution_count": 106,
   "id": "6e813021",
   "metadata": {},
   "outputs": [],
   "source": [
    "# LAMOST\n",
    "with fits.open('data/raw/lamost/lamost_DR7_VDcat_20200825.fits') as hdul:\n",
    "    df_lamost = Table(hdul[1].data).to_pandas()\n",
    "\n",
    "df_sdss = pd.read_csv('data/raw/sdss/SDSS_spectro_mrafifrbbn.csv')"
   ]
  },
  {
   "cell_type": "code",
   "execution_count": 107,
   "id": "bef2f0a8",
   "metadata": {},
   "outputs": [],
   "source": [
    "sdss_coords = SkyCoord(ra=df_sdss['ra'].to_numpy()*u.deg, dec=df_sdss['dec'].to_numpy()*u.deg)\n",
    "lamost_coords = SkyCoord(ra=df_lamost['ra'].to_numpy()*u.deg, dec=df_lamost['dec'].to_numpy()*u.deg)"
   ]
  },
  {
   "cell_type": "code",
   "execution_count": 108,
   "id": "9c6145e0",
   "metadata": {},
   "outputs": [],
   "source": [
    "idx, sep2d, _ = lamost_coords.match_to_catalog_sky(sdss_coords)\n",
    "is_counterpart = sep2d < 1.*u.arcsec\n",
    "\n",
    "df_lamost['sdss_idx'] = idx\n",
    "df_lamost['sdss_counterpart'] = is_counterpart\n",
    "\n",
    "df_lamost = df_lamost[df_lamost['sdss_counterpart']==True]"
   ]
  },
  {
   "cell_type": "code",
   "execution_count": 109,
   "id": "a28f1b28",
   "metadata": {},
   "outputs": [],
   "source": [
    "df_lamost_sdss = df_lamost.merge(df_sdss, left_on='sdss_idx', right_index=True)"
   ]
  },
  {
   "cell_type": "code",
   "execution_count": 111,
   "id": "1aee9f5d",
   "metadata": {},
   "outputs": [
    {
     "data": {
      "text/html": [
       "<div>\n",
       "<style scoped>\n",
       "    .dataframe tbody tr th:only-of-type {\n",
       "        vertical-align: middle;\n",
       "    }\n",
       "\n",
       "    .dataframe tbody tr th {\n",
       "        vertical-align: top;\n",
       "    }\n",
       "\n",
       "    .dataframe thead th {\n",
       "        text-align: right;\n",
       "    }\n",
       "</style>\n",
       "<table border=\"1\" class=\"dataframe\">\n",
       "  <thead>\n",
       "    <tr style=\"text-align: right;\">\n",
       "      <th></th>\n",
       "      <th>ra_x</th>\n",
       "      <th>dec_x</th>\n",
       "      <th>ra_y</th>\n",
       "      <th>dec_y</th>\n",
       "      <th>veldisp_x</th>\n",
       "      <th>sigmaStars</th>\n",
       "    </tr>\n",
       "  </thead>\n",
       "  <tbody>\n",
       "    <tr>\n",
       "      <th>8</th>\n",
       "      <td>47.255500</td>\n",
       "      <td>-0.739480</td>\n",
       "      <td>47.255598</td>\n",
       "      <td>-0.739559</td>\n",
       "      <td>252.0</td>\n",
       "      <td>98.81241</td>\n",
       "    </tr>\n",
       "    <tr>\n",
       "      <th>21</th>\n",
       "      <td>146.099723</td>\n",
       "      <td>26.585136</td>\n",
       "      <td>146.099740</td>\n",
       "      <td>26.585145</td>\n",
       "      <td>176.0</td>\n",
       "      <td>158.59010</td>\n",
       "    </tr>\n",
       "    <tr>\n",
       "      <th>40</th>\n",
       "      <td>121.816470</td>\n",
       "      <td>6.052110</td>\n",
       "      <td>121.816460</td>\n",
       "      <td>6.052112</td>\n",
       "      <td>80.0</td>\n",
       "      <td>108.24700</td>\n",
       "    </tr>\n",
       "    <tr>\n",
       "      <th>42</th>\n",
       "      <td>121.637230</td>\n",
       "      <td>6.162760</td>\n",
       "      <td>121.637240</td>\n",
       "      <td>6.162754</td>\n",
       "      <td>94.0</td>\n",
       "      <td>45.21399</td>\n",
       "    </tr>\n",
       "    <tr>\n",
       "      <th>52</th>\n",
       "      <td>122.271720</td>\n",
       "      <td>5.976240</td>\n",
       "      <td>122.271740</td>\n",
       "      <td>5.976251</td>\n",
       "      <td>154.0</td>\n",
       "      <td>87.56513</td>\n",
       "    </tr>\n",
       "    <tr>\n",
       "      <th>...</th>\n",
       "      <td>...</td>\n",
       "      <td>...</td>\n",
       "      <td>...</td>\n",
       "      <td>...</td>\n",
       "      <td>...</td>\n",
       "      <td>...</td>\n",
       "    </tr>\n",
       "    <tr>\n",
       "      <th>85849</th>\n",
       "      <td>242.067374</td>\n",
       "      <td>3.960888</td>\n",
       "      <td>242.067370</td>\n",
       "      <td>3.960833</td>\n",
       "      <td>157.0</td>\n",
       "      <td>156.89590</td>\n",
       "    </tr>\n",
       "    <tr>\n",
       "      <th>85850</th>\n",
       "      <td>227.049393</td>\n",
       "      <td>27.240308</td>\n",
       "      <td>227.049390</td>\n",
       "      <td>27.240311</td>\n",
       "      <td>260.0</td>\n",
       "      <td>253.97280</td>\n",
       "    </tr>\n",
       "    <tr>\n",
       "      <th>85855</th>\n",
       "      <td>227.223969</td>\n",
       "      <td>26.641746</td>\n",
       "      <td>227.223890</td>\n",
       "      <td>26.641726</td>\n",
       "      <td>204.0</td>\n",
       "      <td>168.14610</td>\n",
       "    </tr>\n",
       "    <tr>\n",
       "      <th>85856</th>\n",
       "      <td>226.245001</td>\n",
       "      <td>27.678836</td>\n",
       "      <td>226.245000</td>\n",
       "      <td>27.678835</td>\n",
       "      <td>200.0</td>\n",
       "      <td>187.98010</td>\n",
       "    </tr>\n",
       "    <tr>\n",
       "      <th>85858</th>\n",
       "      <td>227.103277</td>\n",
       "      <td>27.522263</td>\n",
       "      <td>227.103280</td>\n",
       "      <td>27.522273</td>\n",
       "      <td>153.0</td>\n",
       "      <td>148.98610</td>\n",
       "    </tr>\n",
       "  </tbody>\n",
       "</table>\n",
       "<p>30690 rows × 6 columns</p>\n",
       "</div>"
      ],
      "text/plain": [
       "             ra_x      dec_x        ra_y      dec_y  veldisp_x  sigmaStars\n",
       "8       47.255500  -0.739480   47.255598  -0.739559      252.0    98.81241\n",
       "21     146.099723  26.585136  146.099740  26.585145      176.0   158.59010\n",
       "40     121.816470   6.052110  121.816460   6.052112       80.0   108.24700\n",
       "42     121.637230   6.162760  121.637240   6.162754       94.0    45.21399\n",
       "52     122.271720   5.976240  122.271740   5.976251      154.0    87.56513\n",
       "...           ...        ...         ...        ...        ...         ...\n",
       "85849  242.067374   3.960888  242.067370   3.960833      157.0   156.89590\n",
       "85850  227.049393  27.240308  227.049390  27.240311      260.0   253.97280\n",
       "85855  227.223969  26.641746  227.223890  26.641726      204.0   168.14610\n",
       "85856  226.245001  27.678836  226.245000  27.678835      200.0   187.98010\n",
       "85858  227.103277  27.522263  227.103280  27.522273      153.0   148.98610\n",
       "\n",
       "[30690 rows x 6 columns]"
      ]
     },
     "execution_count": 111,
     "metadata": {},
     "output_type": "execute_result"
    }
   ],
   "source": [
    "df_lamost_sdss[['ra_x', 'dec_x', 'ra_y', 'dec_y', 'veldisp_x', 'sigmaStars']]"
   ]
  },
  {
   "cell_type": "markdown",
   "id": "9013f46c",
   "metadata": {},
   "source": [
    "## Main code for merging"
   ]
  },
  {
   "cell_type": "markdown",
   "id": "0a9fe16c",
   "metadata": {},
   "source": [
    "### 6dFGS"
   ]
  },
  {
   "cell_type": "code",
   "execution_count": 122,
   "id": "3b3bef4d",
   "metadata": {},
   "outputs": [],
   "source": [
    "# 6dFGS\n",
    "df1 = pd.read_csv('data/raw/6dfgs/campbell_table8.ascii', delim_whitespace=True)\n",
    "df2 = pd.read_csv('data/raw/6dfgs/campbell_table2.ascii', delim_whitespace=True)\n",
    "\n",
    "df = df1.merge(df2, left_on='2MASSid', right_on='tmass')"
   ]
  },
  {
   "cell_type": "code",
   "execution_count": 124,
   "id": "d0c6ece0",
   "metadata": {},
   "outputs": [
    {
     "data": {
      "text/plain": [
       "Index(['6dFGSid', '2MASSid', 'ra', 'dec', 'cz', 'logRe_J', 'elogRe_J',\n",
       "       'logRe_H', 'elogRe_H', 'logRe_K', 'elogRe_K', 'logIe_J', 'elogIe_J',\n",
       "       'logIe_H', 'elogIe_H', 'logIe_K', 'elogIe_K', 'logsigma', 'elogsigma',\n",
       "       'mtype', 'Groupid', 'Nr', 'zgroup', 'dist5', 'sdens5', 'sampcodeJ',\n",
       "       'pvcodeJ', 'sampcodeH', 'pvcodeH', 'sampcodeK', 'pvcodeK', 'n', 'sdf',\n",
       "       'tmass', 'mjd', 'z_helio', 's2n', 'r', 'cor_sigma', 'dex_error'],\n",
       "      dtype='object')"
      ]
     },
     "execution_count": 124,
     "metadata": {},
     "output_type": "execute_result"
    }
   ],
   "source": [
    "df.columns"
   ]
  },
  {
   "cell_type": "code",
   "execution_count": 132,
   "id": "aa9ec0de",
   "metadata": {},
   "outputs": [
    {
     "data": {
      "text/plain": [
       "11520"
      ]
     },
     "execution_count": 132,
     "metadata": {},
     "output_type": "execute_result"
    }
   ],
   "source": [
    "len(df2)"
   ]
  }
 ],
 "metadata": {
  "kernelspec": {
   "display_name": "thesis_venv",
   "language": "python",
   "name": "thesis_venv"
  },
  "language_info": {
   "codemirror_mode": {
    "name": "ipython",
    "version": 3
   },
   "file_extension": ".py",
   "mimetype": "text/x-python",
   "name": "python",
   "nbconvert_exporter": "python",
   "pygments_lexer": "ipython3",
   "version": "3.11.5"
  }
 },
 "nbformat": 4,
 "nbformat_minor": 5
}
