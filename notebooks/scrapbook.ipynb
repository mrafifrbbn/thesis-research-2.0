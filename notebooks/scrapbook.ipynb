{
 "cells": [
  {
   "cell_type": "code",
   "execution_count": 25,
   "id": "a0941063",
   "metadata": {},
   "outputs": [],
   "source": [
    "import numpy as np\n",
    "import matplotlib.pyplot as plt"
   ]
  },
  {
   "cell_type": "code",
   "execution_count": 13,
   "id": "69f58ca7",
   "metadata": {},
   "outputs": [
    {
     "data": {
      "text/plain": [
       "array([[2.26847981, 3.2100522 , 0.37787377, 0.04404391, 0.29018679,\n",
       "        0.142819  ],\n",
       "       [2.26734084, 3.21342558, 0.37319675, 0.04444464, 0.2925521 ,\n",
       "        0.14301817],\n",
       "       [2.26579044, 3.20906117, 0.37471183, 0.04324392, 0.28485065,\n",
       "        0.14764068],\n",
       "       ...,\n",
       "       [2.26628907, 3.20808232, 0.37632116, 0.04466433, 0.28598633,\n",
       "        0.14830773],\n",
       "       [2.26758792, 3.21874301, 0.36888803, 0.04400379, 0.2930064 ,\n",
       "        0.1433389 ],\n",
       "       [2.26723828, 3.2140945 , 0.37245426, 0.0450786 , 0.28610629,\n",
       "        0.14680575]])"
      ]
     },
     "execution_count": 13,
     "metadata": {},
     "output_type": "execute_result"
    }
   ],
   "source": [
    "params = np.load(\"../artifacts/fp_fit/smin_setting_1/fp_fit_method_0/6dfgs_abc_fixed_chain.npy\")\n",
    "params_T = params.T\n",
    "\n",
    "rmean = -0.2 + 1.5 * params_T[0] - 0.88 * params_T[1]\n",
    "\n",
    "params_T = np.insert(params_T, [2], rmean, axis=0)\n",
    "\n",
    "params_T.T"
   ]
  },
  {
   "cell_type": "code",
   "execution_count": 38,
   "id": "e10d7149",
   "metadata": {},
   "outputs": [
    {
     "name": "stdout",
     "output_type": "stream",
     "text": [
      "-0.227\n",
      "0.03\n"
     ]
    }
   ],
   "source": [
    "survey_1 = np.load('../artifacts/fp_fit/smin_setting_1/fp_fit_method_0/all_combined_individual_chain.npy').T[2]\n",
    "print(np.round(np.mean(survey_1), 3))\n",
    "print(np.round(np.std(survey_1), 3))\n",
    "# survey_2 = np.load('../artifacts/fp_fit/smin_setting_1/fp_fit_method_0/lamost_individual_chain.npy').T[3]\n",
    "\n",
    "# np.absolute(np.mean(survey_1) - np.mean(survey_2)) / np.sqrt(np.std(survey_1)**2 + np.std(survey_2)**2)"
   ]
  },
  {
   "cell_type": "code",
   "execution_count": null,
   "id": "cdae902e",
   "metadata": {},
   "outputs": [],
   "source": []
  }
 ],
 "metadata": {
  "kernelspec": {
   "display_name": "venv",
   "language": "python",
   "name": "python3"
  },
  "language_info": {
   "codemirror_mode": {
    "name": "ipython",
    "version": 3
   },
   "file_extension": ".py",
   "mimetype": "text/x-python",
   "name": "python",
   "nbconvert_exporter": "python",
   "pygments_lexer": "ipython3",
   "version": "3.11.4"
  }
 },
 "nbformat": 4,
 "nbformat_minor": 5
}
